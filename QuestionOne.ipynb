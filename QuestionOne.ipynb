{
 "cells": [
  {
   "cell_type": "code",
   "execution_count": 11,
   "metadata": {},
   "outputs": [],
   "source": [
    "import selenium\n",
    "import pandas as pd\n",
    "from selenium import webdriver\n",
    "import time"
   ]
  },
  {
   "cell_type": "code",
   "execution_count": 12,
   "metadata": {},
   "outputs": [],
   "source": [
    "from selenium import webdriver\n",
    "from selenium.common.exceptions import InvalidArgumentException\n",
    "from selenium.webdriver.common.by import By\n",
    "from selenium.webdriver.support.ui import WebDriverWait\n",
    "from selenium.webdriver.support import expected_conditions as EC\n",
    "from selenium.webdriver.chrome.options import Options\n",
    "from selenium.webdriver.common import action_chains"
   ]
  },
  {
   "cell_type": "code",
   "execution_count": 13,
   "metadata": {},
   "outputs": [],
   "source": [
    "driver = webdriver.Firefox()\n",
    "driver.maximize_window()"
   ]
  },
  {
   "cell_type": "code",
   "execution_count": 14,
   "metadata": {},
   "outputs": [],
   "source": [
    "driver.get(\"https://www.naukri.com/\")"
   ]
  },
  {
   "cell_type": "code",
   "execution_count": 15,
   "metadata": {},
   "outputs": [],
   "source": [
    "skillname = driver.find_element_by_xpath(\"//input[@id='qsb-keyword-sugg']\")\n",
    "skillname.send_keys(\"Data Analyst\")\n",
    "location = driver.find_element_by_xpath(\"//input[@id='qsb-location-sugg']\")\n",
    "location.send_keys(\"Bangalore\")\n",
    "# click the submit button\n",
    "searchbtn = driver.find_element_by_xpath(\"//button[@class='btn']\")\n",
    "#searchBtn = driver.find_element_by_class_name(\"//search-btn\")\n",
    "searchbtn.click()"
   ]
  },
  {
   "cell_type": "code",
   "execution_count": 16,
   "metadata": {},
   "outputs": [
    {
     "name": "stdout",
     "output_type": "stream",
     "text": [
      "experience requried:  [<selenium.webdriver.firefox.webelement.FirefoxWebElement (session=\"79859710-ade7-174a-830c-df447acad510\", element=\"37934465-983d-2048-967e-afbd2a685cc2\")>, <selenium.webdriver.firefox.webelement.FirefoxWebElement (session=\"79859710-ade7-174a-830c-df447acad510\", element=\"2cc39332-8c1c-3c44-bfb1-a446cc47f783\")>, <selenium.webdriver.firefox.webelement.FirefoxWebElement (session=\"79859710-ade7-174a-830c-df447acad510\", element=\"697325c1-1310-4645-9643-dd0e9f7325da\")>, <selenium.webdriver.firefox.webelement.FirefoxWebElement (session=\"79859710-ade7-174a-830c-df447acad510\", element=\"c64522ee-2fa8-0b4b-95a2-e5951b36246f\")>, <selenium.webdriver.firefox.webelement.FirefoxWebElement (session=\"79859710-ade7-174a-830c-df447acad510\", element=\"25eb8af7-e3ed-0547-97e0-41489660ebe5\")>, <selenium.webdriver.firefox.webelement.FirefoxWebElement (session=\"79859710-ade7-174a-830c-df447acad510\", element=\"7cbe2f9d-1f5f-c040-a7e4-98be5a5d42f3\")>, <selenium.webdriver.firefox.webelement.FirefoxWebElement (session=\"79859710-ade7-174a-830c-df447acad510\", element=\"3e69d541-8996-8046-b029-df4f1507b2ef\")>, <selenium.webdriver.firefox.webelement.FirefoxWebElement (session=\"79859710-ade7-174a-830c-df447acad510\", element=\"01d606d0-2444-2046-914c-ecd8f4c4df92\")>, <selenium.webdriver.firefox.webelement.FirefoxWebElement (session=\"79859710-ade7-174a-830c-df447acad510\", element=\"1116ac82-05b0-9d4e-9b09-c20f2dd75aa1\")>, <selenium.webdriver.firefox.webelement.FirefoxWebElement (session=\"79859710-ade7-174a-830c-df447acad510\", element=\"d907bc1e-d87f-0144-9043-04e8b402ec49\")>, <selenium.webdriver.firefox.webelement.FirefoxWebElement (session=\"79859710-ade7-174a-830c-df447acad510\", element=\"23ff2562-f05a-9542-bb43-f9e0ca8bf340\")>, <selenium.webdriver.firefox.webelement.FirefoxWebElement (session=\"79859710-ade7-174a-830c-df447acad510\", element=\"d5dfee0b-6654-a34d-89bb-f17d2c9bca3f\")>, <selenium.webdriver.firefox.webelement.FirefoxWebElement (session=\"79859710-ade7-174a-830c-df447acad510\", element=\"16adb91f-3914-1442-9732-2fc72856f5fd\")>, <selenium.webdriver.firefox.webelement.FirefoxWebElement (session=\"79859710-ade7-174a-830c-df447acad510\", element=\"5c7a5500-3ae8-0048-a1e4-b04af9fec1c8\")>, <selenium.webdriver.firefox.webelement.FirefoxWebElement (session=\"79859710-ade7-174a-830c-df447acad510\", element=\"9c44ae8e-3285-9a4a-a727-d4c8dec645f9\")>, <selenium.webdriver.firefox.webelement.FirefoxWebElement (session=\"79859710-ade7-174a-830c-df447acad510\", element=\"ae4eaefb-7e77-dd4b-abc3-3906439dff7e\")>, <selenium.webdriver.firefox.webelement.FirefoxWebElement (session=\"79859710-ade7-174a-830c-df447acad510\", element=\"a3844094-5fe7-5348-afe9-b630f6b20e1a\")>, <selenium.webdriver.firefox.webelement.FirefoxWebElement (session=\"79859710-ade7-174a-830c-df447acad510\", element=\"a328c9fa-84d7-8a4f-a5fb-6afffb5038fc\")>, <selenium.webdriver.firefox.webelement.FirefoxWebElement (session=\"79859710-ade7-174a-830c-df447acad510\", element=\"c966e58a-5c01-9c47-8c2a-0ad388e0af9b\")>, <selenium.webdriver.firefox.webelement.FirefoxWebElement (session=\"79859710-ade7-174a-830c-df447acad510\", element=\"23725ff9-0cfa-184b-8903-f9cade7456ae\")>]\n"
     ]
    }
   ],
   "source": [
    "joblist = driver.find_elements_by_xpath(\"//article[@class='jobTuple bgWhite br4 mb-8']\")\n",
    "#print(\"Job is: \",joblist[1].find_element_by_xpath(\"//div[@class='jobTupleHeader']/div[@class='info fleft']/a[@class='title fw500 ellipsis']\").get_attribute(\"title\"))\n",
    "jobtitle = driver.find_elements_by_xpath(\"//a[@class='title fw500 ellipsis']\")\n",
    "#print(\"Job 1: \", jobtitle[3].get_attribute(\"text\"))\n",
    "companyname = driver.find_elements_by_xpath(\"//a[@class='subTitle ellipsis fleft']\")\n",
    "\n",
    "\n",
    "joblocation = driver.find_elements_by_xpath(\"//li[@class='fleft grey-text br2 placeHolderLi location']/span[@class='ellipsis fleft fs12 lh16']\")\n",
    "\n",
    "experiencerequired = driver.find_elements_by_xpath(\"//li[@class='fleft grey-text br2 placeHolderLi experience']/span[@class='ellipsis fleft fs12 lh16']\")\n",
    "print(\"experience requried: \", experiencerequired)"
   ]
  },
  {
   "cell_type": "code",
   "execution_count": 17,
   "metadata": {},
   "outputs": [
    {
     "name": "stdout",
     "output_type": "stream",
     "text": [
      "0 :  Data Scientist / Data Analyst -Business Analyst\n",
      "1 :  Data Analyst\n",
      "2 :  Data analysts\n",
      "3 :  Data Analyst (2positions)//immediate Joiners//bangalore\n",
      "4 :  Data analysts\n",
      "5 :  Data Analyst\n",
      "6 :  Data Analyst\n",
      "7 :  Consultant-Data Analyst -Bangalore\n",
      "8 :  Data Analyst - Category Demand Management (Revenue & Growth)\n",
      "9 :  Data Analyst/ Data Consultant (Various Levels – Senior/ Mid/ Junior)\n"
     ]
    }
   ],
   "source": [
    "counter = 0\n",
    "for title in jobtitle:\n",
    "    #x = job.find_element_by_xpath(\"//a[@class='subTitle ellipsis fleft']\")\n",
    "    if(counter == 10):\n",
    "        break\n",
    "    else:\n",
    "        print(counter, \": \" , title.get_attribute(\"text\"))\n",
    "    counter += 1"
   ]
  },
  {
   "cell_type": "code",
   "execution_count": 18,
   "metadata": {},
   "outputs": [
    {
     "name": "stdout",
     "output_type": "stream",
     "text": [
      "0 :  Inflexion Analytix Private Limited\n",
      "1 :  Novel Office \n",
      "2 :  IBM India Pvt. Limited\n",
      "3 :  Tech Mahindra Ltd.\n",
      "4 :  IBM India Pvt. Limited\n",
      "5 :  Myntra Designs Pvt. Ltd.\n",
      "6 :  Myntra Designs Pvt. Ltd.\n",
      "7 :  Innovsource Services Private Limited\n",
      "8 :  Myntra Designs Pvt. Ltd.\n",
      "9 :  DVSUM INDIA PRIVATE LIMITED \n"
     ]
    }
   ],
   "source": [
    "counter = 0\n",
    "for company in companyname:\n",
    "    if(counter == 10):\n",
    "        break\n",
    "    else:\n",
    "        print(counter, \": \" ,company.get_attribute(\"text\")) \n",
    "    counter += 1"
   ]
  },
  {
   "cell_type": "code",
   "execution_count": 19,
   "metadata": {},
   "outputs": [
    {
     "name": "stdout",
     "output_type": "stream",
     "text": [
      "0 :  Mumbai, Hyderabad/Secunderabad, Pune, Gurgaon/Gurugram, Chennai, Bangalore/Bengaluru\n",
      "1 :  Bangalore/Bengaluru\n",
      "2 :  Bengaluru/Bangalore\n",
      "3 :  Bangalore/Bengaluru\n",
      "4 :  Bangalore/Bengaluru\n",
      "5 :  Bangalore/Bengaluru\n",
      "6 :  Bangalore/Bengaluru\n",
      "7 :  Bangalore/Bengaluru\n",
      "8 :  Bangalore/Bengaluru\n",
      "9 :  Bangalore/Bengaluru\n"
     ]
    }
   ],
   "source": [
    "counter = 0\n",
    "for loc in joblocation:\n",
    "    if(counter == 10):\n",
    "        break\n",
    "    else:\n",
    "        print(counter, \": \" , loc.get_attribute(\"title\")) \n",
    "    counter += 1"
   ]
  },
  {
   "cell_type": "code",
   "execution_count": 20,
   "metadata": {},
   "outputs": [
    {
     "name": "stdout",
     "output_type": "stream",
     "text": [
      "0 :  0-3 Yrs\n",
      "1 :  0-3 Yrs\n",
      "2 :  5-6 Yrs\n",
      "3 :  4-8 Yrs\n",
      "4 :  3-5 Yrs\n",
      "5 :  3-5 Yrs\n",
      "6 :  3-8 Yrs\n",
      "7 :  2-7 Yrs\n",
      "8 :  1-4 Yrs\n",
      "9 :  5-10 Yrs\n"
     ]
    }
   ],
   "source": [
    "counter = 0\n",
    "for exp in experiencerequired:\n",
    "    if(counter == 10):\n",
    "        break\n",
    "    else:\n",
    "        print(counter, \": \" , exp.get_attribute(\"title\")) \n",
    "    counter += 1"
   ]
  },
  {
   "cell_type": "code",
   "execution_count": null,
   "metadata": {},
   "outputs": [],
   "source": []
  }
 ],
 "metadata": {
  "kernelspec": {
   "display_name": "Python 3",
   "language": "python",
   "name": "python3"
  },
  "language_info": {
   "codemirror_mode": {
    "name": "ipython",
    "version": 3
   },
   "file_extension": ".py",
   "mimetype": "text/x-python",
   "name": "python",
   "nbconvert_exporter": "python",
   "pygments_lexer": "ipython3",
   "version": "3.9.2"
  }
 },
 "nbformat": 4,
 "nbformat_minor": 4
}
